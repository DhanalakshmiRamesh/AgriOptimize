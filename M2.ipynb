{
 "cells": [
  {
   "cell_type": "markdown",
   "id": "302daff4",
   "metadata": {},
   "source": [
    "## DATA VISUALIZATION AND DATA ANALYSIS"
   ]
  },
  {
   "cell_type": "code",
   "execution_count": null,
   "id": "c82685bf",
   "metadata": {},
   "outputs": [],
   "source": [
    "import pandas as pd \n",
    "import numpy as np\n",
    "import matplotlib.pyplot as plt\n",
    "import seaborn as sns"
   ]
  },
  {
   "cell_type": "code",
   "execution_count": null,
   "id": "7250875d",
   "metadata": {},
   "outputs": [],
   "source": [
    "df = pd.read_csv('CROP.csv')\n",
    "df.head()"
   ]
  },
  {
   "cell_type": "code",
   "execution_count": null,
   "id": "fb58b7c7",
   "metadata": {},
   "outputs": [],
   "source": [
    "df.columns"
   ]
  },
  {
   "cell_type": "code",
   "execution_count": null,
   "id": "aad85ff8",
   "metadata": {},
   "outputs": [],
   "source": [
    "from sklearn.preprocessing import LabelEncoder\n",
    "le = LabelEncoder()\n",
    "\n",
    "var = ['label']\n",
    "  \n",
    "for i in var:\n",
    "    df[i] = le.fit_transform(df[i]).astype(int)"
   ]
  },
  {
   "cell_type": "code",
   "execution_count": null,
   "id": "a3bbfa9f",
   "metadata": {},
   "outputs": [],
   "source": [
    "plt.figure(figsize=(12,7))\n",
    "sns.countplot(x='label',data=df)"
   ]
  },
  {
   "cell_type": "code",
   "execution_count": null,
   "id": "dbb5919e",
   "metadata": {},
   "outputs": [],
   "source": [
    "plt.figure(figsize=(15,5))\n",
    "\n",
    "plt.subplot(1,2,1)\n",
    "plt.hist(df['temperature'],color='red')\n",
    "\n",
    "plt.subplot(1,2,2)\n",
    "plt.hist(df['humidity'],color='blue')\n"
   ]
  },
  {
   "cell_type": "code",
   "execution_count": null,
   "id": "5d0b38d5",
   "metadata": {},
   "outputs": [],
   "source": [
    "df.hist(figsize=(15,55),layout=(15,4), color='green')\n",
    "plt.show()"
   ]
  },
  {
   "cell_type": "code",
   "execution_count": null,
   "id": "b2ac96f8",
   "metadata": {},
   "outputs": [],
   "source": [
    "df['ph'].hist(figsize=(10,5),color='yellow')"
   ]
  },
  {
   "cell_type": "code",
   "execution_count": null,
   "id": "65cc0aca",
   "metadata": {},
   "outputs": [],
   "source": [
    "sns.lineplot(df['K'], color='brown') # scatter, plot, triplot, stackplot"
   ]
  },
  {
   "cell_type": "code",
   "execution_count": null,
   "id": "61e0110e",
   "metadata": {},
   "outputs": [],
   "source": [
    "sns.violinplot(df['rainfall'], color='purple') "
   ]
  },
  {
   "cell_type": "code",
   "execution_count": null,
   "id": "38dd59f9",
   "metadata": {},
   "outputs": [],
   "source": [
    "df['N'].plot(kind='density')"
   ]
  },
  {
   "cell_type": "code",
   "execution_count": null,
   "id": "2ed11694",
   "metadata": {},
   "outputs": [],
   "source": [
    "sns.displot(df['P'], color='purple') \n",
    "# barplot, boxenplot, boxplot, countplot, displot, distplot, ecdfplot, histplot, kdeplot, pointplot, violinplot, stripplot"
   ]
  },
  {
   "cell_type": "code",
   "execution_count": null,
   "id": "322a7f9d",
   "metadata": {},
   "outputs": [],
   "source": [
    "sns.displot(df['humidity'], color='coral') # residplot, scatterplot "
   ]
  },
  {
   "cell_type": "code",
   "execution_count": null,
   "id": "85d4f618",
   "metadata": {},
   "outputs": [],
   "source": [
    "fig, ax = plt.subplots(figsize=(20,15))\n",
    "sns.heatmap(df.corr(),annot = True, fmt='0.2%',cmap = 'autumn',ax=ax)"
   ]
  },
  {
   "cell_type": "code",
   "execution_count": null,
   "id": "61d0ec17",
   "metadata": {},
   "outputs": [],
   "source": [
    "def plot(df, variable):\n",
    "    dataframe_pie = df[variable].value_counts()\n",
    "    ax = dataframe_pie.plot.pie(figsize=(9,9), autopct='%1.2f%%', fontsize = 10)\n",
    "    ax.set_title(variable + ' \\n', fontsize = 10)\n",
    "    return np.round(dataframe_pie/df.shape[0]*100,2)\n",
    "\n",
    "plot(df, 'label')"
   ]
  },
  {
   "cell_type": "code",
   "execution_count": null,
   "id": "68c0eeb1",
   "metadata": {},
   "outputs": [],
   "source": []
  }
 ],
 "metadata": {
  "kernelspec": {
   "display_name": "Python 3 (ipykernel)",
   "language": "python",
   "name": "python3"
  },
  "language_info": {
   "codemirror_mode": {
    "name": "ipython",
    "version": 3
   },
   "file_extension": ".py",
   "mimetype": "text/x-python",
   "name": "python",
   "nbconvert_exporter": "python",
   "pygments_lexer": "ipython3",
   "version": "3.11.9"
  }
 },
 "nbformat": 4,
 "nbformat_minor": 5
}
